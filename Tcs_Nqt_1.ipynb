{
  "nbformat": 4,
  "nbformat_minor": 0,
  "metadata": {
    "colab": {
      "provenance": [],
      "authorship_tag": "ABX9TyNWeWkR60mQK8ZUE5JOYJUm",
      "include_colab_link": true
    },
    "kernelspec": {
      "name": "python3",
      "display_name": "Python 3"
    },
    "language_info": {
      "name": "python"
    }
  },
  "cells": [
    {
      "cell_type": "markdown",
      "metadata": {
        "id": "view-in-github",
        "colab_type": "text"
      },
      "source": [
        "<a href=\"https://colab.research.google.com/github/omkarmohite123/Tcs_Nqt-programming-questions/blob/main/Tcs_Nqt_1.ipynb\" target=\"_parent\"><img src=\"https://colab.research.google.com/assets/colab-badge.svg\" alt=\"Open In Colab\"/></a>"
      ]
    },
    {
      "cell_type": "code",
      "execution_count": null,
      "metadata": {
        "id": "CEGIgH9MWpTN"
      },
      "outputs": [],
      "source": [
        "\"\"\"\n",
        "Problem Statement –\n",
        "\n",
        "A chocolate factory is packing chocolates into the packets. The chocolate packets here represent an array  of N number of integer values. The task is to find the empty packets(0) of chocolate and push it to the end of the conveyor belt(array).\n",
        "\n",
        "Example 1 :\n",
        "\n",
        "N=7 and arr = [4,5,0,1.9,0,5,0].\n",
        "\n",
        "There are 3 empty packets in the given set. These 3 empty packets represented as O should be pushed towards the end of the array\n",
        "\n",
        "Input :\n",
        "\n",
        "7  – Value of N\n",
        "\n",
        "[4,5,0,1,0,0,5] – Element of arr[O] to arr[N-1],While input each element is separated by newline\n",
        "\n",
        "Output:\n",
        "\n",
        "4 5 1 9 5 0 0\n",
        "\n",
        "Example 2:\n",
        "\n",
        "Input:\n",
        "\n",
        "6 — Value of N.\n",
        "\n",
        "[6,0,1,8,0,2] – Element of arr[0] to arr[N-1], While input each element is separated by newline\n",
        "\n",
        "Output:\n",
        "\n",
        "6 1 8 2 0 0\n",
        "\"\"\""
      ]
    },
    {
      "cell_type": "code",
      "source": [
        "n=int(input())\n",
        "arr=[int(input()) for i in range(n)]\n",
        "empty=[]\n",
        "non_empty=[]\n",
        "for i in arr:\n",
        "  if i==0:\n",
        "    empty.append(i)\n",
        "  else:\n",
        "    non_empty.append(i)\n",
        "for i in empty:\n",
        "  non_empty.append(i)\n",
        "print(*non_empty)"
      ],
      "metadata": {
        "colab": {
          "base_uri": "https://localhost:8080/"
        },
        "id": "wUxXnplfagj5",
        "outputId": "a959c01d-0fa8-435a-e460-8b69fbc6b6f2"
      },
      "execution_count": 4,
      "outputs": [
        {
          "output_type": "stream",
          "name": "stdout",
          "text": [
            "6\n",
            "6\n",
            "0\n",
            "1\n",
            "8\n",
            "0\n",
            "2\n",
            "6 1 8 2 0 0\n"
          ]
        }
      ]
    }
  ]
}