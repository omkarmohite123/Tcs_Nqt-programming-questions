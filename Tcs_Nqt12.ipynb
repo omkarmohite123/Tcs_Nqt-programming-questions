{
  "nbformat": 4,
  "nbformat_minor": 0,
  "metadata": {
    "colab": {
      "provenance": [],
      "authorship_tag": "ABX9TyNFUqd9yzYOyLnjz2C3H26a",
      "include_colab_link": true
    },
    "kernelspec": {
      "name": "python3",
      "display_name": "Python 3"
    },
    "language_info": {
      "name": "python"
    }
  },
  "cells": [
    {
      "cell_type": "markdown",
      "metadata": {
        "id": "view-in-github",
        "colab_type": "text"
      },
      "source": [
        "<a href=\"https://colab.research.google.com/github/omkarmohite123/Tcs_Nqt-programming-questions/blob/main/Tcs_Nqt12.ipynb\" target=\"_parent\"><img src=\"https://colab.research.google.com/assets/colab-badge.svg\" alt=\"Open In Colab\"/></a>"
      ]
    },
    {
      "cell_type": "code",
      "source": [
        "\"\"\"\n",
        "Our hoary culture had several great persons since time immemorial and king vikramaditya’s nava ratnas (nine gems) belongs to this ilk.They are named in the following shloka:\n",
        "Among these, Varahamihira was an astrologer of eminence and his book Brihat Jataak is recokened as the ultimate authority in astrology. He was once talking with Amarasimha,another gem among the nava ratnas and the author of Sanskrit thesaurus, Amarakosha. Amarasimha wanted to know the final position of a person, who starts from the origin 0 0 and travels per following scheme.\n",
        "\n",
        "He first turns and travels 10 units of distance\n",
        "His second turn is upward for 20 units\n",
        "Third turn is to the left for 30 units\n",
        "Fourth turn is the downward for 40 units\n",
        "Fifth turn is to the right(again) for 50 units\n",
        "… And thus he travels, every time increasing the travel distance by 10 units.\n",
        "\n",
        "Constraints:\n",
        "\n",
        "Case 1\n",
        "Input : 3\n",
        "Expected Output :-20 20\n",
        "Case 2\n",
        "Input: 4\n",
        "Expected Output: -20 -20\n",
        "Case 3\n",
        "Input : 5\n",
        "Expected Output : 30 -20\n",
        "Case 4\n",
        "Input : 7\n",
        "Expected Output : 90 -20\n",
        "\n",
        "\n",
        "\"\"\""
      ],
      "metadata": {
        "id": "RVUxKwgnF1eE"
      },
      "execution_count": null,
      "outputs": []
    },
    {
      "cell_type": "code",
      "source": [
        "num=int(input())\n",
        "start=\"right\"\n",
        "dis=10\n",
        "x,y=0,0\n",
        "for i in range(num):\n",
        "  if start==\"right\":\n",
        "     x+=dis\n",
        "     start=\"up\"\n",
        "     dis=dis+10\n",
        "  elif start==\"up\":\n",
        "     y+=dis\n",
        "     start=\"left\"\n",
        "     dis=dis+10\n",
        "  elif start==\"left\":\n",
        "     x-=dis\n",
        "     start=\"down\"\n",
        "     dis=dis+10\n",
        "  elif start==\"down\":\n",
        "     y-=dis\n",
        "     start=\"right1\"\n",
        "     dis=dis+10\n",
        "  elif start==\"right1\":\n",
        "     x+=dis\n",
        "     start=\"right\"\n",
        "     dis=dis+10\n",
        "print(x,y)\n",
        "\n"
      ],
      "metadata": {
        "colab": {
          "base_uri": "https://localhost:8080/"
        },
        "id": "x5Jz4c_lIhFY",
        "outputId": "63373f9b-260b-434d-d4f3-96fdc24010b5"
      },
      "execution_count": 12,
      "outputs": [
        {
          "output_type": "stream",
          "name": "stdout",
          "text": [
            "3\n",
            "-20 20\n"
          ]
        }
      ]
    }
  ]
}