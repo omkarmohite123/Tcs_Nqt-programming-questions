{
  "nbformat": 4,
  "nbformat_minor": 0,
  "metadata": {
    "colab": {
      "provenance": [],
      "authorship_tag": "ABX9TyOmI8MSQS0giEwEizLD/z8O",
      "include_colab_link": true
    },
    "kernelspec": {
      "name": "python3",
      "display_name": "Python 3"
    },
    "language_info": {
      "name": "python"
    }
  },
  "cells": [
    {
      "cell_type": "markdown",
      "metadata": {
        "id": "view-in-github",
        "colab_type": "text"
      },
      "source": [
        "<a href=\"https://colab.research.google.com/github/omkarmohite123/Tcs_Nqt-programming-questions/blob/main/Tcs_Nqt_5.ipynb\" target=\"_parent\"><img src=\"https://colab.research.google.com/assets/colab-badge.svg\" alt=\"Open In Colab\"/></a>"
      ]
    },
    {
      "cell_type": "code",
      "source": [
        "\"\"\"\n",
        "Given an integer array Arr of size N the task is to find the count of elements whose value is greater than all of its prior elements.\n",
        "\n",
        "Note : 1st element of the array should be considered in the count of the result.\n",
        "\n",
        "For example,\n",
        "\n",
        "Arr[]={7,4,8,2,9}\n",
        "\n",
        "As 7 is the first element, it will consider in the result.\n",
        "\n",
        "8 and 9 are also the elements that are greater than all of its previous elements.\n",
        "\n",
        "Since total of 3 elements is present in the array that meets the condition.\n",
        "\n",
        "Hence the output = 3.\n",
        "\n",
        " Example 1:\n",
        "\n",
        "Input \n",
        "\n",
        "5 -> Value of N, represents size of Arr\n",
        "\n",
        "7-> Value of Arr[0]\n",
        "\n",
        "4 -> Value of Arr[1]\n",
        "\n",
        "8-> Value of Arr[2]\n",
        "\n",
        "2-> Value of Arr[3]\n",
        "\n",
        "9-> Value of Arr[4]\n",
        "\n",
        "Output :\n",
        "\n",
        "3\n",
        "\n",
        "Example 2:\n",
        "\n",
        "5   -> Value of N, represents size of Arr\n",
        "\n",
        "3  -> Value of Arr[0]\n",
        "\n",
        "4 -> Value of Arr[1]\n",
        "\n",
        "5 -> Value of Arr[2]\n",
        "\n",
        "8 -> Value of Arr[3]\n",
        "\n",
        "9 -> Value of Arr[4]\n",
        "\n",
        "Output : \n",
        "\n",
        "5\n",
        "\n",
        "Constraints\n",
        "\n",
        "1<=N<=20\n",
        "\n",
        "1<=Arr[i]<=10000\n",
        "\n",
        "\n",
        "\"\"\""
      ],
      "metadata": {
        "id": "AJKHZ_xesHpr"
      },
      "execution_count": null,
      "outputs": []
    },
    {
      "cell_type": "code",
      "source": [
        "\n",
        "n=int(input())\n",
        "c=0\n",
        "m=-1000\n",
        "while n:\n",
        "    n-=1\n",
        "    a=int(input())\n",
        "    if a>m:\n",
        "        m=a\n",
        "        c+=1\n",
        "print(c)\n"
      ],
      "metadata": {
        "colab": {
          "base_uri": "https://localhost:8080/"
        },
        "id": "u_vVwLidsIDL",
        "outputId": "f7766814-6aa5-4faf-feb8-702435dc5c0d"
      },
      "execution_count": 2,
      "outputs": [
        {
          "output_type": "stream",
          "name": "stdout",
          "text": [
            "5\n",
            "3\n",
            "4\n",
            "5\n",
            "8\n",
            "9\n",
            "5\n"
          ]
        }
      ]
    }
  ]
}