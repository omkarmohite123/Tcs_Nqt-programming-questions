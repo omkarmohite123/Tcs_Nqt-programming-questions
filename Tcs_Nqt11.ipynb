{
  "nbformat": 4,
  "nbformat_minor": 0,
  "metadata": {
    "colab": {
      "provenance": [],
      "authorship_tag": "ABX9TyNA1xBfQDo4/41PVvTvg3uZ",
      "include_colab_link": true
    },
    "kernelspec": {
      "name": "python3",
      "display_name": "Python 3"
    },
    "language_info": {
      "name": "python"
    }
  },
  "cells": [
    {
      "cell_type": "markdown",
      "metadata": {
        "id": "view-in-github",
        "colab_type": "text"
      },
      "source": [
        "<a href=\"https://colab.research.google.com/github/omkarmohite123/Tcs_Nqt-programming-questions/blob/main/Tcs_Nqt11.ipynb\" target=\"_parent\"><img src=\"https://colab.research.google.com/assets/colab-badge.svg\" alt=\"Open In Colab\"/></a>"
      ]
    },
    {
      "cell_type": "code",
      "source": [
        "\"\"\"\n",
        "#Sweet Seventeen#\n",
        "\n",
        "Given a maximum of four digit to the base 17(10 -> A, 11 -> B, 12 -> C, 16 -> G) as input, output its decimal value.\n",
        "\n",
        "\n",
        "\n",
        "Input:\n",
        "\n",
        "23GF\n",
        "\n",
        "Output:\n",
        "10980\n",
        "\n",
        "\"\"\""
      ],
      "metadata": {
        "colab": {
          "base_uri": "https://localhost:8080/",
          "height": 54
        },
        "id": "l5NpykeuD4ae",
        "outputId": "01de7ee3-f5c8-4e41-e0b2-2cabdc6ba9cb"
      },
      "execution_count": 47,
      "outputs": [
        {
          "output_type": "execute_result",
          "data": {
            "text/plain": [
              "'\\n#Sweet Seventeen#\\n\\nGiven a maximum of four digit to the base 17(10 -> A, 11 -> B, 12 -> C, 16 -> G) as input, output its decimal value.\\n\\n\\n\\nInput:\\n\\n23GF\\n\\nOutput:\\n10980\\n\\n'"
            ],
            "application/vnd.google.colaboratory.intrinsic+json": {
              "type": "string"
            }
          },
          "metadata": {},
          "execution_count": 47
        }
      ]
    },
    {
      "cell_type": "code",
      "source": [
        "num = str(input())\n",
        "print(int(num,17))"
      ],
      "metadata": {
        "colab": {
          "base_uri": "https://localhost:8080/"
        },
        "id": "x6nwb5-TANIV",
        "outputId": "d847abde-8900-41d0-ca7b-8c2744b309ce"
      },
      "execution_count": 7,
      "outputs": [
        {
          "output_type": "stream",
          "name": "stdout",
          "text": [
            "23GF\n",
            "10980\n"
          ]
        }
      ]
    }
  ]
}