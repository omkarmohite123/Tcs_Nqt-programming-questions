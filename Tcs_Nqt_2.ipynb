{
  "nbformat": 4,
  "nbformat_minor": 0,
  "metadata": {
    "colab": {
      "provenance": [],
      "authorship_tag": "ABX9TyPN+V3K851wBF0Z8CRgUR3Z",
      "include_colab_link": true
    },
    "kernelspec": {
      "name": "python3",
      "display_name": "Python 3"
    },
    "language_info": {
      "name": "python"
    }
  },
  "cells": [
    {
      "cell_type": "markdown",
      "metadata": {
        "id": "view-in-github",
        "colab_type": "text"
      },
      "source": [
        "<a href=\"https://colab.research.google.com/github/omkarmohite123/Tcs_Nqt-programming-questions/blob/main/Tcs_Nqt_2.ipynb\" target=\"_parent\"><img src=\"https://colab.research.google.com/assets/colab-badge.svg\" alt=\"Open In Colab\"/></a>"
      ]
    },
    {
      "cell_type": "code",
      "source": [
        "\"\"\"\n",
        "Problem Statement –\n",
        "\n",
        "Joseph is learning digital logic subject which will be for his next semester. He usually tries to solve unit assignment problems before the lecture. Today he got one tricky question. The problem statement is “A positive integer has been given as an input. Convert decimal value to binary representation. Toggle all bits of it after the most significant bit including the most significant bit. Print the positive integer value after toggling all bits”.\n",
        "\n",
        "Constrains-\n",
        "\n",
        "1<=N<=100\n",
        "\n",
        "Example 1:\n",
        "\n",
        "Input :\n",
        "\n",
        "10  -> Integer\n",
        "\n",
        "Output :\n",
        "\n",
        "5    -> result- Integer\n",
        "\n",
        "Explanation:\n",
        "\n",
        "Binary representation of 10 is 1010. After toggling the bits(1010), will get 0101 which represents “5”. Hence output will print “5”.\n",
        "\n",
        "\n",
        "\"\"\""
      ],
      "metadata": {
        "id": "5eg_DfC6dRCh"
      },
      "execution_count": null,
      "outputs": []
    },
    {
      "cell_type": "code",
      "source": [
        "import math\n",
        "n=int(input())\n",
        "toggled_bit=(1<<int(math.log2(n))+1)-1\n",
        "# \"<<\" represents bitwise left shift\n",
        "print(n^toggled_bit)\n",
        "\n"
      ],
      "metadata": {
        "colab": {
          "base_uri": "https://localhost:8080/"
        },
        "id": "9O7huEFNdRM6",
        "outputId": "539a5dbe-dda5-4bf9-b0cc-163a3433ab7a"
      },
      "execution_count": 7,
      "outputs": [
        {
          "output_type": "stream",
          "name": "stdout",
          "text": [
            "10\n",
            "5\n"
          ]
        }
      ]
    }
  ]
}