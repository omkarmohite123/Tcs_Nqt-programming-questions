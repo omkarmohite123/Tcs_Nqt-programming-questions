{
  "nbformat": 4,
  "nbformat_minor": 0,
  "metadata": {
    "colab": {
      "provenance": [],
      "authorship_tag": "ABX9TyNnDTwtzTG49r63pJC1SE7I",
      "include_colab_link": true
    },
    "kernelspec": {
      "name": "python3",
      "display_name": "Python 3"
    },
    "language_info": {
      "name": "python"
    }
  },
  "cells": [
    {
      "cell_type": "markdown",
      "metadata": {
        "id": "view-in-github",
        "colab_type": "text"
      },
      "source": [
        "<a href=\"https://colab.research.google.com/github/omkarmohite123/Tcs_Nqt-programming-questions/blob/main/Tcs_Nqt_4.ipynb\" target=\"_parent\"><img src=\"https://colab.research.google.com/assets/colab-badge.svg\" alt=\"Open In Colab\"/></a>"
      ]
    },
    {
      "cell_type": "code",
      "source": [
        "\"\"\"\n",
        "Airport security officials have confiscated several item of the passengers at the security check point. All the items have been dumped into a huge box (array). Each item possesses a certain amount of risk[0,1,2]. Here, the risk severity of the items represent an array[] of N number of integer values. The task here is to sort the items based on their levels of risk in the array. The risk values range from 0 to 2.\n",
        "\n",
        "Example :\n",
        "\n",
        "Input :\n",
        "\n",
        "7  -> Value of N\n",
        "\n",
        "[1,0,2,0,1,0,2]-> Element of arr[0] to arr[N-1], while input each element is separated by new line.\n",
        "\n",
        "Output :\n",
        "\n",
        "0 0 0 1 1 2 2  -> Element after sorting based on risk severity \n",
        "\n",
        "Example 2:\n",
        "\n",
        "input : 10  -> Value of N \n",
        "\n",
        "[2,1,0,2,1,0,0,1,2,0] -> Element of arr[0] to arr[N-1], while input each element is separated by a new line.\n",
        "\n",
        "Output : \n",
        "\n",
        "0 0 0 0 1 1 1 2 2 2  ->Elements after sorting based on risk severity.\n",
        "\n",
        "Explanation:\n",
        "\n",
        "In the above example, the input is an array of size N consisting of only 0’s, 1’s and 2s. The output is a sorted array from 0 to 2 based on risk severity.\n",
        "\n",
        "\n",
        "\"\"\""
      ],
      "metadata": {
        "id": "A-an7npzq9Du"
      },
      "execution_count": null,
      "outputs": []
    },
    {
      "cell_type": "code",
      "source": [
        "n=int(input())\n",
        "arr=[int(input()) for i in range(n)]\n",
        "k=[]\n",
        "for i in arr:\n",
        "  k.append(i)\n",
        "m=sorted(k,reverse=False)\n",
        "print(*m0)"
      ],
      "metadata": {
        "colab": {
          "base_uri": "https://localhost:8080/"
        },
        "id": "GFFVgZ9jrV4-",
        "outputId": "d517dfaa-f4e0-4c7d-992e-3012718748b5"
      },
      "execution_count": 2,
      "outputs": [
        {
          "output_type": "stream",
          "name": "stdout",
          "text": [
            "10\n",
            "2\n",
            "1\n",
            "0\n",
            "2\n",
            "1\n",
            "0\n",
            "0\n",
            "1\n",
            "2\n",
            "0\n",
            "0 0 0 0 1 1 1 2 2 2\n"
          ]
        }
      ]
    }
  ]
}