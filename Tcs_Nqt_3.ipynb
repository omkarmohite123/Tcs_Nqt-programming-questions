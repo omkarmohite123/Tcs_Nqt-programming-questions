{
  "nbformat": 4,
  "nbformat_minor": 0,
  "metadata": {
    "colab": {
      "provenance": [],
      "authorship_tag": "ABX9TyOuXZ/SuaadO2xiQxjtJ5VS",
      "include_colab_link": true
    },
    "kernelspec": {
      "name": "python3",
      "display_name": "Python 3"
    },
    "language_info": {
      "name": "python"
    }
  },
  "cells": [
    {
      "cell_type": "markdown",
      "metadata": {
        "id": "view-in-github",
        "colab_type": "text"
      },
      "source": [
        "<a href=\"https://colab.research.google.com/github/omkarmohite123/Tcs_Nqt-programming-questions/blob/main/Tcs_Nqt_3.ipynb\" target=\"_parent\"><img src=\"https://colab.research.google.com/assets/colab-badge.svg\" alt=\"Open In Colab\"/></a>"
      ]
    },
    {
      "cell_type": "code",
      "source": [
        "\"\"\"\n",
        "Jack is always excited about sunday. It is favourite day, when he gets to play all day. And goes to cycling with his friends. \n",
        "\n",
        "So every time when the months starts he counts the number of sundays he will get to enjoy. Considering the month can start with any day, be it Sunday, Monday…. Or so on.\n",
        "\n",
        "Count the number of Sunday jack will get within n number of days.\n",
        "\n",
        " Example 1:\n",
        "\n",
        "Input \n",
        "\n",
        "mon-> input String denoting the start of the month.\n",
        "\n",
        "13  -> input integer denoting the number of days from the start of the month.\n",
        "\n",
        "Output :\n",
        "\n",
        "2    -> number of days within 13 days.\n",
        "\n",
        "Explanation:\n",
        "\n",
        "The month start with mon(Monday). So the upcoming sunday will arrive in next 6 days. And then next Sunday in next 7 days and so on.\n",
        "\n",
        "Now total number of days are 13. It means 6 days to first sunday and then remaining 7 days will end up in another sunday. Total 2 sundays may fall within 13 days.\n",
        "\n",
        "\n",
        "\"\"\""
      ],
      "metadata": {
        "id": "MGhWWn5pgqW-"
      },
      "execution_count": null,
      "outputs": []
    },
    {
      "cell_type": "code",
      "source": [
        "dict_day={\"mon\":1,\n",
        "     \"tue\":2,\n",
        "      \"wed\":3,\n",
        "      \"thr\":4,\n",
        "      \"frd\":5,\n",
        "      \"sat\":6,\n",
        "      \"sun\":0   \n",
        "}\n",
        "day=input()#enter first 3 letter of day\n",
        "n=int(input())\n",
        "rmaining_day=n-dict_day[day]\n",
        "count=1\n",
        "if n-dict_day[day]>=1:\n",
        "  count=1+(n-dict_day[day])//7\n",
        "print(count)\n"
      ],
      "metadata": {
        "colab": {
          "base_uri": "https://localhost:8080/"
        },
        "id": "kGVr18dDgqgU",
        "outputId": "d6fe8282-b9c3-4700-f1c6-b77d20b8c88d"
      },
      "execution_count": 1,
      "outputs": [
        {
          "output_type": "stream",
          "name": "stdout",
          "text": [
            "mon\n",
            "13\n",
            "2\n"
          ]
        }
      ]
    }
  ]
}