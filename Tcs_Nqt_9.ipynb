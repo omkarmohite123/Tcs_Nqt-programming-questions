{
  "nbformat": 4,
  "nbformat_minor": 0,
  "metadata": {
    "colab": {
      "provenance": [],
      "authorship_tag": "ABX9TyNLPhBVGZAYpkADDO+g3bvv",
      "include_colab_link": true
    },
    "kernelspec": {
      "name": "python3",
      "display_name": "Python 3"
    },
    "language_info": {
      "name": "python"
    }
  },
  "cells": [
    {
      "cell_type": "markdown",
      "metadata": {
        "id": "view-in-github",
        "colab_type": "text"
      },
      "source": [
        "<a href=\"https://colab.research.google.com/github/omkarmohite123/Tcs_Nqt-programming-questions/blob/main/Tcs_Nqt_9.ipynb\" target=\"_parent\"><img src=\"https://colab.research.google.com/assets/colab-badge.svg\" alt=\"Open In Colab\"/></a>"
      ]
    },
    {
      "cell_type": "code",
      "source": [
        "\"\"\"\n",
        "Problem Statement\n",
        "\n",
        "An intelligence agency has received reports about some threats. The reports consist of numbers in a mysterious method. There is a number “N” and another number “R”. Those numbers are studied thoroughly and it is concluded that all digits of the number ‘N’ are summed up and this action is performed ‘R’ number of times. The resultant is also a single digit that is yet to be deciphered. The task here is to find the single-digit sum of the given number ‘N’ by repeating the action ‘R’ number of times.\n",
        "\n",
        "If the value of ‘R’ is 0, print the output as ‘0’.\n",
        "\n",
        "Example 1:\n",
        "\n",
        "Input :\n",
        "\n",
        "99 -> Value of N\n",
        "\n",
        "3  -> Value of R\n",
        "\n",
        "Output :\n",
        "\n",
        "9  -> Possible ways to fill the cistern.\n",
        "\n",
        "Explanation:\n",
        "\n",
        "Here, the number N=99\n",
        "\n",
        "Sum of the digits N: 9+9 = 18\n",
        "Repeat step 2 ‘R’ times i.e. 3 tims  (9+9)+(9+9)+(9+9) = 18+18+18 =54\n",
        "Add digits of 54 as we need a single digit 5+4\n",
        "Hence , the output is 9.\n",
        "\n",
        "Example 2:\n",
        "\n",
        "Input :\n",
        "\n",
        "1234   -> Value of N\n",
        "\n",
        "2      -> Value of R\n",
        "\n",
        "Output :\n",
        "\n",
        "2  -> Possible ways to fill the cistern\n",
        "\n",
        "Explanation:\n",
        "\n",
        "Here, the number N=1234\n",
        "\n",
        "Sum of the digits of N: 1+2+3+4 =10\n",
        "Repeat step 2 ‘R’ times i.e. 2 times  (1+2+3+4)+(1+2+3+4)= 10+10=20\n",
        "Add digits of 20 as we need a single digit. 2+0=2\n",
        "Hence, the output is 2.\n",
        "\n",
        "Constraints:\n",
        "\n",
        "0<N<=1000\n",
        "\n",
        "0<=R<=50\n",
        "\n",
        "The Input format for testing \n",
        "\n",
        "The candidate has to write the code to accept 2 input(s)\n",
        "\n",
        "First input- Accept value for N (positive integer number)\n",
        "\n",
        "Second input: Accept value for R(Positive integer number)\n",
        "\n",
        "The output format for testing \n",
        "\n",
        "The output should be a positive integer number or print the message (if any) given in the problem statement. (Check the output in Example 1, Example 2).\n",
        "\n",
        "\n",
        "\"\"\""
      ],
      "metadata": {
        "id": "DqKS5Wi63XoN"
      },
      "execution_count": null,
      "outputs": []
    },
    {
      "cell_type": "code",
      "source": [
        "num=input()\n",
        "ways=int(input())\n",
        "array=list(num)\n",
        "sum=0\n",
        "for i in array:\n",
        "  sum+=int(i)\n",
        "n_way=sum*ways\n",
        "list_n_ways=list(str(n_way))\n",
        "output=0\n",
        "for i in  list_n_ways:\n",
        "  output+=int(i)\n",
        "if num!=0:\n",
        "  print(output)\n",
        "else:\n",
        "  print(\"0\")"
      ],
      "metadata": {
        "colab": {
          "base_uri": "https://localhost:8080/"
        },
        "id": "xxHU5OlF3Xxh",
        "outputId": "fb1b0917-5fb4-4d02-f9bd-7cc7382809e3"
      },
      "execution_count": 21,
      "outputs": [
        {
          "output_type": "stream",
          "name": "stdout",
          "text": [
            "1234\n",
            "2\n",
            "2\n"
          ]
        }
      ]
    }
  ]
}