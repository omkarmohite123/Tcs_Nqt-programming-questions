{
  "nbformat": 4,
  "nbformat_minor": 0,
  "metadata": {
    "colab": {
      "provenance": [],
      "authorship_tag": "ABX9TyPRzlnpYe4hIqcpHw4LG1Ci",
      "include_colab_link": true
    },
    "kernelspec": {
      "name": "python3",
      "display_name": "Python 3"
    },
    "language_info": {
      "name": "python"
    }
  },
  "cells": [
    {
      "cell_type": "markdown",
      "metadata": {
        "id": "view-in-github",
        "colab_type": "text"
      },
      "source": [
        "<a href=\"https://colab.research.google.com/github/omkarmohite123/Tcs_Nqt-programming-questions/blob/main/Tcs_Nqt_10.ipynb\" target=\"_parent\"><img src=\"https://colab.research.google.com/assets/colab-badge.svg\" alt=\"Open In Colab\"/></a>"
      ]
    },
    {
      "cell_type": "code",
      "source": [
        "\"\"\"\n",
        "Problem Statement\n",
        "\n",
        "Particulate matters are the biggest contributors to Delhi pollution. The main reason behind the increase in the concentration of PMs include vehicle emission by applying Odd Even concept for all types of vehicles. The vehicles with the odd last digit in the registration number will be allowed on roads on odd dates and those with even last digit will on even dates.\n",
        "\n",
        "Given an integer array a[], contains the last digit of the registration number of N vehicles traveling on date D(a positive integer). The task is to calculate the total fine collected by the traffic police department from the vehicles violating the rules.\n",
        "\n",
        "Note : For violating the rule, vehicles would be fined as X Rs.\n",
        "\n",
        "Example 1:\n",
        "\n",
        "Input :\n",
        "\n",
        "4 -> Value of N\n",
        "\n",
        "{5,2,3,7} -> a[], Elements a[0] to a[N-1], during input each element is separated by a new line\n",
        "\n",
        "12 -> Value of D, i.e. date \n",
        "\n",
        "200 -> Value of x i.e. fine\n",
        "\n",
        "Output :\n",
        "\n",
        "600  -> total fine collected \n",
        "\n",
        "Explanation:\n",
        "\n",
        "Date D=12 means , only an even number of vehicles are allowed. \n",
        "\n",
        "Find will be collected from 5,3 and 7 with an amount of 200 each.\n",
        "\n",
        "Hence, the output = 600.\n",
        "\n",
        "Example 2:\n",
        "\n",
        "Input :\n",
        "\n",
        "5   -> Value of N \n",
        "\n",
        "{2,5,1,6,8}  -> a[], elements a[0] to a[N-1], during input each element is separated by new line\n",
        "\n",
        "3 -> Value of D i.e. date \n",
        "\n",
        "300 -> Value of X i.e. fine \n",
        "\n",
        "Output :\n",
        "\n",
        "900  -> total fine collected \n",
        "\n",
        "Explanation:\n",
        "\n",
        "Date D=3 means only odd number vehicles with are allowed.\n",
        "\n",
        "Find will be collected from 2,6 and 8 with an amount of 300 each.\n",
        "\n",
        "Hence, the output = 900 \n",
        "\n",
        "Constraints:\n",
        "\n",
        "0<N<=100\n",
        "1<=a[i]<=9\n",
        "1<=D <=30\n",
        "100<=x<=5000 \n",
        "The input format for testing \n",
        "\n",
        "The candidate has to write the code to accept 4 input(s).\n",
        "\n",
        "First input – Accept for N(Positive integer) values (a[]), where each value is separated by a new line.\n",
        "\n",
        "Third input – Accept value for D(Positive integer)\n",
        "\n",
        "Fourth input – Accept value for X(Positive integer )\n",
        "\n",
        "The output format for testing \n",
        "\n",
        "The output should be a positive integer number (Check the output in Example 1, Example e) if no fine is collected then print ”0”.\n",
        "\n",
        "\n",
        "\"\"\""
      ],
      "metadata": {
        "id": "zm-EwcFG5i3n"
      },
      "execution_count": null,
      "outputs": []
    },
    {
      "cell_type": "code",
      "source": [
        "a=int(input())\n",
        "array=[input() for i in range(a)]\n",
        "date=int(input())\n",
        "fine=int(input())\n",
        "even_list=0\n",
        "odd_list=0\n",
        "\n",
        "for i in array:\n",
        "  if date%2!=0 and int(i)%2==0:\n",
        "    odd_list+=1\n",
        "  elif date%2==0 and int(i)%2!=0:\n",
        "    even_list+=1\n",
        "if date%2!=0:\n",
        "  print(odd_list*fine)\n",
        "else:\n",
        "  print(even_list*fine)\n"
      ],
      "metadata": {
        "colab": {
          "base_uri": "https://localhost:8080/"
        },
        "id": "W5pm_R7J6DPy",
        "outputId": "7aeb9ed4-5fe2-434e-a723-f9ff37c71531"
      },
      "execution_count": 1,
      "outputs": [
        {
          "output_type": "stream",
          "name": "stdout",
          "text": [
            "4\n",
            "5\n",
            "2\n",
            "3\n",
            "7\n",
            "12\n",
            "200\n",
            "0\n",
            "3\n",
            "600\n"
          ]
        }
      ]
    },
    {
      "cell_type": "code",
      "source": [],
      "metadata": {
        "id": "HOoko2qA6uQ4"
      },
      "execution_count": null,
      "outputs": []
    }
  ]
}