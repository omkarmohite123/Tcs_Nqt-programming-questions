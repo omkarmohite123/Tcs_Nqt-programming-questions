{
  "nbformat": 4,
  "nbformat_minor": 0,
  "metadata": {
    "colab": {
      "provenance": [],
      "authorship_tag": "ABX9TyMf+IxSJa0V+hxiCEX2L58f",
      "include_colab_link": true
    },
    "kernelspec": {
      "name": "python3",
      "display_name": "Python 3"
    },
    "language_info": {
      "name": "python"
    }
  },
  "cells": [
    {
      "cell_type": "markdown",
      "metadata": {
        "id": "view-in-github",
        "colab_type": "text"
      },
      "source": [
        "<a href=\"https://colab.research.google.com/github/omkarmohite123/Tcs_Nqt-programming-questions/blob/main/Tcs_Nqt_6.ipynb\" target=\"_parent\"><img src=\"https://colab.research.google.com/assets/colab-badge.svg\" alt=\"Open In Colab\"/></a>"
      ]
    },
    {
      "cell_type": "code",
      "source": [
        "\"\"\"\n",
        "A supermarket maintains a pricing format for all its products. A value N is printed on each product. When the scanner reads the value N on the item, the product of all the digits in the value N is the price of the item. The task here is to design the software such that given the code of any item N the product (multiplication) of all the digits of value should be computed(price).\n",
        "\n",
        "Example 1:\n",
        "\n",
        "Input :\n",
        "\n",
        "5244 -> Value of N\n",
        "\n",
        "Output :\n",
        "160 -> Price \n",
        "\n",
        "Explanation:\n",
        "\n",
        "From the input above \n",
        "\n",
        "Product of the digits 5,2,4,4\n",
        "\n",
        "5*2*4*4= 160\n",
        "\n",
        "Hence, output is 160.\n",
        "\"\"\""
      ],
      "metadata": {
        "id": "JpWAu2tZu5ct"
      },
      "execution_count": null,
      "outputs": []
    },
    {
      "cell_type": "code",
      "source": [
        "num=input()\n",
        "list=list(num)\n",
        "product=1\n",
        "for i in list:\n",
        "  product=product*int(i)\n",
        "print(product)"
      ],
      "metadata": {
        "colab": {
          "base_uri": "https://localhost:8080/"
        },
        "id": "r088CIvru5nk",
        "outputId": "717d4e7e-ae54-4e7f-babf-4a6645a4f709"
      },
      "execution_count": 4,
      "outputs": [
        {
          "output_type": "stream",
          "name": "stdout",
          "text": [
            "5244\n",
            "160\n"
          ]
        }
      ]
    }
  ]
}