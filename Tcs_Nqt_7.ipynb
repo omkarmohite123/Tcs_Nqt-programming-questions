{
  "nbformat": 4,
  "nbformat_minor": 0,
  "metadata": {
    "colab": {
      "provenance": [],
      "authorship_tag": "ABX9TyOeBaXOml4lRyYysfPAGn32",
      "include_colab_link": true
    },
    "kernelspec": {
      "name": "python3",
      "display_name": "Python 3"
    },
    "language_info": {
      "name": "python"
    }
  },
  "cells": [
    {
      "cell_type": "markdown",
      "metadata": {
        "id": "view-in-github",
        "colab_type": "text"
      },
      "source": [
        "<a href=\"https://colab.research.google.com/github/omkarmohite123/Tcs_Nqt-programming-questions/blob/main/Tcs_Nqt_7.ipynb\" target=\"_parent\"><img src=\"https://colab.research.google.com/assets/colab-badge.svg\" alt=\"Open In Colab\"/></a>"
      ]
    },
    {
      "cell_type": "code",
      "source": [
        "\"\"\"\n",
        "A furnishing company is manufacturing a new collection of curtains. The curtains are of two colors aqua(a) and black (b). The curtains color is represented as a string(str) consisting of a’s and b’s of length N. Then, they are packed (substring) into L number of curtains in each box. The box with the maximum number of ‘aqua’ (a) color curtains is labeled. The task here is to find the number of ‘aqua’ color curtains in the labeled box.\n",
        "\n",
        "Note :\n",
        "\n",
        "If ‘L’ is not a multiple of N, the remaining number of curtains should be considered as a substring too. In simple words, after dividing the curtains in sets of ‘L’, any curtains left will be another set(refer example 1)\n",
        "\n",
        "Example 1:\n",
        "\n",
        "Input :\n",
        "\n",
        "bbbaaababa -> Value of str\n",
        "\n",
        "3    -> Value of L\n",
        "\n",
        "Output\n",
        "\n",
        "3   -> Maximum number of a’s\n",
        "\n",
        "Explanation:\n",
        "\n",
        "From the input given above.\n",
        "\n",
        "Dividing the string into sets of 3 characters each \n",
        "\n",
        "Set 1: {b,b,b}\n",
        "\n",
        "Set 2: {a,a,a}\n",
        "\n",
        "Set 3: {b,a,b}\n",
        "\n",
        "Set 4: {a} -> leftover characters also as taken as another set\n",
        "\n",
        "Among all the sets, Set 2 has more number of a’s. The number of a’s in set 2 is 3.\n",
        "\n",
        "Hence, the output is 3.\n",
        "\n",
        "Example 2:\n",
        "\n",
        "Input :\n",
        "\n",
        "abbbaabbb -> Value of str\n",
        "\n",
        "5   -> Value of L\n",
        "\n",
        "Output:\n",
        "\n",
        "2   -> Maximum number of a’s\n",
        "\n",
        "Explanation:\n",
        "\n",
        "From the input given above,\n",
        "\n",
        "Dividing the string into sets of 5 characters each.\n",
        "\n",
        "Set 1: {a,b,b,b,b}\n",
        "\n",
        "Set 2: {a,a,b,b,b}\n",
        "\n",
        "Among both the sets, set 2 has more number of a’s. The number of a’s in set 2 is 2.\n",
        "\n",
        "Hence, the output is 2.\n",
        "\n",
        "Constraints:\n",
        "\n",
        "1<=L<=10\n",
        "\n",
        "1<=N<=50\n",
        "\n",
        "The input format for testing \n",
        "\n",
        "The candidate has to write the code to accept two inputs separated by a new line.\n",
        "\n",
        "First input- Accept string that contains character a and b only\n",
        "\n",
        "Second input- Accept value for N(Positive integer number)\n",
        "\n",
        "The output  format for testing\n",
        "\n",
        "The output should be a positive integer number of print the message(if any) given in the problem statement.(Check the output in Example 1, Example 2).\n",
        "\n",
        "\"\"\""
      ],
      "metadata": {
        "id": "7t3SV077wKfJ"
      },
      "execution_count": null,
      "outputs": []
    },
    {
      "cell_type": "code",
      "source": [
        "m=input()\n",
        "s=list(m)\n",
        "l=int(input())\n",
        "set=[]\n",
        "for i in range(0,len(s),l):\n",
        "    set.append(s[i:i+l])\n",
        "    i=i+l\n",
        "c=0\n",
        "h=0\n",
        "m=0\n",
        "for i in range(len(set)):\n",
        "  for j in range(len(set[i])):\n",
        "    if set[i][j]==\"a\":\n",
        "      c+=1\n",
        "      h=c\n",
        "print(h)"
      ],
      "metadata": {
        "colab": {
          "base_uri": "https://localhost:8080/"
        },
        "id": "Hn-b6swWwKpR",
        "outputId": "27781796-dbb9-41ca-b040-63f330d59594"
      },
      "execution_count": 13,
      "outputs": [
        {
          "output_type": "stream",
          "name": "stdout",
          "text": [
            "abbbaabbb\n",
            "5\n",
            "3\n"
          ]
        }
      ]
    }
  ]
}