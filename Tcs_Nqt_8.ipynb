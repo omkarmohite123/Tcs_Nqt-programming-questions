{
  "nbformat": 4,
  "nbformat_minor": 0,
  "metadata": {
    "colab": {
      "provenance": [],
      "authorship_tag": "ABX9TyOdFpnL05XICOR0YbuRkM6N",
      "include_colab_link": true
    },
    "kernelspec": {
      "name": "python3",
      "display_name": "Python 3"
    },
    "language_info": {
      "name": "python"
    }
  },
  "cells": [
    {
      "cell_type": "markdown",
      "metadata": {
        "id": "view-in-github",
        "colab_type": "text"
      },
      "source": [
        "<a href=\"https://colab.research.google.com/github/omkarmohite123/Tcs_Nqt-programming-questions/blob/main/Tcs_Nqt_8.ipynb\" target=\"_parent\"><img src=\"https://colab.research.google.com/assets/colab-badge.svg\" alt=\"Open In Colab\"/></a>"
      ]
    },
    {
      "cell_type": "code",
      "source": [
        "\"\"\"\n",
        "An international round table conference will be held in india. Presidents from all over the world representing their respective countries will be attending the conference. The task is to find the possible number of ways(P) to make the N members sit around the circular table such that.\n",
        "\n",
        "The president and prime minister of India will always sit next to each other.\n",
        "\n",
        "Example 1:\n",
        "\n",
        "Input :\n",
        "\n",
        "4   -> Value of N(No. of members)\n",
        "\n",
        "Output : \n",
        "\n",
        "12  -> Possible ways of seating the members\n",
        "\n",
        "Explanation:\n",
        "\n",
        "2  members should always be next to each other. \n",
        "\n",
        "So, 2 members can be in 2!ways\n",
        "\n",
        "Rest of the members can be arranged in (4-1)! ways.(1 is subtracted because the previously selected two members will be considered as single members now).\n",
        "\n",
        "So total possible ways 4 members can be seated around the circular table 2*6= 12.\n",
        "\n",
        "Hence, output is 12.\n",
        "\n",
        "Example 2:\n",
        "\n",
        "Input:\n",
        "\n",
        "10  -> Value of N(No. of members)\n",
        "\n",
        "Output :\n",
        "\n",
        "725760 -> Possible ways of seating the members \n",
        "\n",
        "Explanation:\n",
        "\n",
        "2 members should always be next to each other.\n",
        "\n",
        "So, 2 members can be in 2! ways \n",
        "\n",
        "Rest of the members can be arranged in (10-1)! Ways. (1 is subtracted because the previously selected two members will be considered as a single member now).\n",
        "\n",
        "So, total possible ways 10 members can be seated around a round table is \n",
        "\n",
        "2*362880 = 725760 ways.\n",
        "\n",
        "Hence, output is 725760.\n",
        "\n",
        "The input format for testing\n",
        "\n",
        "The candidate has to write the code to accept one input \n",
        "\n",
        "First input – Accept value of number of N(Positive integer number)\n",
        "\n",
        "The output format for testing \n",
        "\n",
        "The output should be a positive integer number or print the message(if any) given in the problem statement(Check the output in example 1, example2)\n",
        "\n",
        "Constraints :\n",
        "\n",
        "2<=N<=50\n",
        "\"\"\""
      ],
      "metadata": {
        "id": "LpRLMzJp1WXI"
      },
      "execution_count": null,
      "outputs": []
    },
    {
      "cell_type": "code",
      "source": [
        "n=int(input())\n",
        "fact=1\n",
        "for i in range(1,n+1):\n",
        "  fact=fact*i\n",
        "ways=(fact*2)\n",
        "ans=ways/n\n",
        "print(int(ans))"
      ],
      "metadata": {
        "colab": {
          "base_uri": "https://localhost:8080/"
        },
        "id": "yJMjwxAp1Wwq",
        "outputId": "edfae35f-3e68-4d1f-84ae-e5b4c752135c"
      },
      "execution_count": 15,
      "outputs": [
        {
          "output_type": "stream",
          "name": "stdout",
          "text": [
            "10\n",
            "725760\n"
          ]
        }
      ]
    }
  ]
}