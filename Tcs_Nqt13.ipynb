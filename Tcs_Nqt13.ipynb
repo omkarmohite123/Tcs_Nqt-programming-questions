{
  "nbformat": 4,
  "nbformat_minor": 0,
  "metadata": {
    "colab": {
      "provenance": [],
      "authorship_tag": "ABX9TyNU6Lzr/PUK/NAb0k+WOurL",
      "include_colab_link": true
    },
    "kernelspec": {
      "name": "python3",
      "display_name": "Python 3"
    },
    "language_info": {
      "name": "python"
    }
  },
  "cells": [
    {
      "cell_type": "markdown",
      "metadata": {
        "id": "view-in-github",
        "colab_type": "text"
      },
      "source": [
        "<a href=\"https://colab.research.google.com/github/omkarmohite123/Tcs_Nqt-programming-questions/blob/main/Tcs_Nqt13.ipynb\" target=\"_parent\"><img src=\"https://colab.research.google.com/assets/colab-badge.svg\" alt=\"Open In Colab\"/></a>"
      ]
    },
    {
      "cell_type": "code",
      "source": [
        "\"\"\"\n",
        "One programming language has the following keywords that cannot be used as identifiers:\n",
        "\n",
        "\n",
        "\n",
        "break, case, continue, default, defer, else, for, func, goto, if, map, range, return, struct, type, var\n",
        "\n",
        "\n",
        "\n",
        "Write a program to find if the given word is a keyword or not\n",
        "\n",
        "\n",
        "\n",
        "Input #1:\n",
        "\n",
        "defer\n",
        "\n",
        "\n",
        "\n",
        "Output:\n",
        "\n",
        "defer is a keyword\n",
        "\n",
        "\n",
        "\"\"\""
      ],
      "metadata": {
        "id": "Fkkc6z36OOcC"
      },
      "execution_count": null,
      "outputs": []
    },
    {
      "cell_type": "code",
      "source": [
        "array=[\"break\", \"case\", \"continue\", \"default\", \"defer\", \"else\", \"for\",\"func\", \"goto\", \"if\", \"map\", \"range\", \"return\", \"struct\", \"type\", \"var\"]\n",
        "input=input()\n",
        "if input in array:\n",
        "  print(input+\" is a keyword\")\n",
        "else:\n",
        "  print(input+\" is not a keyword\")\n"
      ],
      "metadata": {
        "colab": {
          "base_uri": "https://localhost:8080/"
        },
        "id": "okSaoHtLOReg",
        "outputId": "74b7535d-a597-4321-c1bb-1635e129bc6f"
      },
      "execution_count": 1,
      "outputs": [
        {
          "output_type": "stream",
          "name": "stdout",
          "text": [
            "defer\n",
            "defer is a keyword\n"
          ]
        }
      ]
    }
  ]
}